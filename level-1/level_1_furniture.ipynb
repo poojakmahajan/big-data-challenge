{
  "cells": [
    {
      "cell_type": "code",
      "execution_count": 22,
      "metadata": {
        "colab": {
          "base_uri": "https://localhost:8080/"
        },
        "id": "9YTWPOw_bBeM",
        "outputId": "65edbfc7-a19f-40af-da46-83137594cdb0"
      },
      "outputs": [
        {
          "name": "stdout",
          "output_type": "stream",
          "text": [
            "Hit:1 http://security.ubuntu.com/ubuntu bionic-security InRelease\n",
            "Hit:2 https://developer.download.nvidia.com/compute/cuda/repos/ubuntu1804/x86_64  InRelease\n",
            "Hit:3 https://cloud.r-project.org/bin/linux/ubuntu bionic-cran40/ InRelease\n",
            "Ign:4 https://developer.download.nvidia.com/compute/machine-learning/repos/ubuntu1804/x86_64  InRelease\n",
            "Hit:5 https://developer.download.nvidia.com/compute/machine-learning/repos/ubuntu1804/x86_64  Release\n",
            "Hit:6 http://ppa.launchpad.net/c2d4u.team/c2d4u4.0+/ubuntu bionic InRelease\n",
            "Hit:7 http://archive.ubuntu.com/ubuntu bionic InRelease\n",
            "Hit:8 http://archive.ubuntu.com/ubuntu bionic-updates InRelease\n",
            "Hit:9 http://ppa.launchpad.net/cran/libgit2/ubuntu bionic InRelease\n",
            "Hit:10 http://archive.ubuntu.com/ubuntu bionic-backports InRelease\n",
            "Hit:11 http://ppa.launchpad.net/deadsnakes/ppa/ubuntu bionic InRelease\n",
            "Hit:12 http://ppa.launchpad.net/graphics-drivers/ppa/ubuntu bionic InRelease\n",
            "Reading package lists... Done\n"
          ]
        }
      ],
      "source": [
        "import os\n",
        "# Find the latest version of spark 3.0  from http://www.apache.org/dist/spark/ and enter as the spark version\n",
        "# For example:\n",
        "# spark_version = 'spark-3.0.3'\n",
        "spark_version = 'spark-3.0.3'\n",
        "os.environ['SPARK_VERSION']=spark_version\n",
        "\n",
        "# Install Spark and Java\n",
        "!apt-get update\n",
        "!apt-get install openjdk-8-jdk-headless -qq > /dev/null\n",
        "!wget -q http://www.apache.org/dist/spark/$SPARK_VERSION/$SPARK_VERSION-bin-hadoop2.7.tgz\n",
        "!tar xf $SPARK_VERSION-bin-hadoop2.7.tgz\n",
        "!pip install -q findspark\n",
        "\n",
        "# Set Environment Variables\n",
        "import os\n",
        "os.environ[\"JAVA_HOME\"] = \"/usr/lib/jvm/java-8-openjdk-amd64\"\n",
        "os.environ[\"SPARK_HOME\"] = f\"/content/{spark_version}-bin-hadoop2.7\"\n",
        "\n",
        "# Start a SparkSession\n",
        "import findspark\n",
        "findspark.init()"
      ]
    },
    {
      "cell_type": "code",
      "execution_count": 23,
      "metadata": {
        "colab": {
          "base_uri": "https://localhost:8080/"
        },
        "id": "1xxMkON0bx6t",
        "outputId": "d1008ae3-29b3-45d8-a331-8865d2f012a2"
      },
      "outputs": [
        {
          "name": "stdout",
          "output_type": "stream",
          "text": [
            "--2022-06-24 05:52:46--  https://jdbc.postgresql.org/download/postgresql-42.2.9.jar\n",
            "Resolving jdbc.postgresql.org (jdbc.postgresql.org)... 72.32.157.228, 2001:4800:3e1:1::228\n",
            "Connecting to jdbc.postgresql.org (jdbc.postgresql.org)|72.32.157.228|:443... connected.\n",
            "HTTP request sent, awaiting response... 200 OK\n",
            "Length: 914037 (893K) [application/java-archive]\n",
            "Saving to: ‘postgresql-42.2.9.jar.1’\n",
            "\n",
            "postgresql-42.2.9.j 100%[===================>] 892.61K  --.-KB/s    in 0.1s    \n",
            "\n",
            "2022-06-24 05:52:46 (5.99 MB/s) - ‘postgresql-42.2.9.jar.1’ saved [914037/914037]\n",
            "\n"
          ]
        }
      ],
      "source": [
        "# For connection to Postgres\n",
        "!wget https://jdbc.postgresql.org/download/postgresql-42.2.9.jar"
      ]
    },
    {
      "cell_type": "code",
      "execution_count": 24,
      "metadata": {
        "id": "EByM4gfWb5H6"
      },
      "outputs": [],
      "source": [
        "# Start Spark session\n",
        "from pyspark.sql import SparkSession\n",
        "spark = SparkSession.builder.appName(\"amazon_reviews_us_Furniture\").config(\"spark.driver.extraClassPath\",\"/content/postgresql-42.2.9.jar\").getOrCreate()"
      ]
    },
    {
      "cell_type": "code",
      "execution_count": 25,
      "metadata": {
        "colab": {
          "base_uri": "https://localhost:8080/"
        },
        "id": "NenfGQ4gcAWh",
        "outputId": "b98430ef-a9de-4e47-cb73-5160dc0ebc67"
      },
      "outputs": [
        {
          "name": "stdout",
          "output_type": "stream",
          "text": [
            "+-----------+-----------+--------------+----------+--------------+--------------------+----------------+-----------+-------------+-----------+----+-----------------+--------------------+--------------------+-----------+\n",
            "|marketplace|customer_id|     review_id|product_id|product_parent|       product_title|product_category|star_rating|helpful_votes|total_votes|vine|verified_purchase|     review_headline|         review_body|review_date|\n",
            "+-----------+-----------+--------------+----------+--------------+--------------------+----------------+-----------+-------------+-----------+----+-----------------+--------------------+--------------------+-----------+\n",
            "|         US|   40884699| R9CO86UUJCAW5|B00VGTN02Y|     786681372|Teenage Mutant Ni...|         Luggage|          3|            0|          0|   N|                Y|my review of this...|my review of this...| 2015-08-31|\n",
            "|         US|   23208852|R3PR8X6QGVJ8B1|B005KIWL0E|     618251799|Kenneth Cole Reac...|         Luggage|          5|            0|          0|   N|                Y|          Five Stars|       Perfect size.| 2015-08-31|\n",
            "|         US|   17100246|R39BO2819ABUPF|B007UNSHJ6|     810480328|American Touriste...|         Luggage|          4|            0|          0|   N|                Y|            so good.|    So far, so good.| 2015-08-31|\n",
            "|         US|   13533670|R3ADL7V6EGGEEP|B00WHFNXB4|      20765193|15.5 Inch Purple ...|         Luggage|          4|            0|          0|   N|                Y|          Four Stars|seems nicely made...| 2015-08-31|\n",
            "|         US|   38541771|R1OXYPBPLVRMI5|B000M5NBYU|     812890709|Port & Company Zi...|         Luggage|          5|            0|          0|   N|                Y|           Dance Bag|Great bag for all...| 2015-08-31|\n",
            "|         US|   12686499|R1WYM8Z5ATQ98O|B00ACBJ89G|     624906499|J World New York ...|         Luggage|          3|            0|          0|   N|                Y|        TOO SMALL!!!|it´s nice BUT it´...| 2015-08-31|\n",
            "|         US|   27767206|R3LCIANTN1H9EC|B001H4BQ1A|     385044506|Voltage Valet Clo...|         Luggage|          4|            1|          1|   N|                Y|          Four Stars|It does the job b...| 2015-08-31|\n",
            "|         US|   46630606|R3U2M23N1P0KQ6|B00ESG6NDK|      51297652|Pro Packing Cubes...|         Luggage|          5|            0|          0|   N|                Y|          Five Stars|          Just fine.| 2015-08-31|\n",
            "|         US|   41622754|R29MB6N7HB6NZI|B00M14SAXC|     832113872|Girl's Dance Duff...|         Luggage|          1|            2|          2|   N|                Y|We were exited to...|We were exited to...| 2015-08-31|\n",
            "|         US|   15296380| RGEQ6DGRG7DQG|B012PC5QAY|     490793867|Disney Inside Out...|         Luggage|          5|            0|          0|   N|                Y|               cute!|Very nice and we'...| 2015-08-31|\n",
            "+-----------+-----------+--------------+----------+--------------+--------------------+----------------+-----------+-------------+-----------+----+-----------------+--------------------+--------------------+-----------+\n",
            "only showing top 10 rows\n",
            "\n"
          ]
        }
      ],
      "source": [
        "# Read in data from S3 Buckets\n",
        "from pyspark import SparkFiles\n",
        "url = \"https://s3.amazonaws.com/amazon-reviews-pds/tsv/amazon_reviews_us_Luggage_v1_00.tsv.gz\"\n",
        "spark.sparkContext.addFile(url)\n",
        "df = spark.read.option('header', 'true').csv(SparkFiles.get(\"amazon_reviews_us_Luggage_v1_00.tsv.gz\"), inferSchema=True, sep=\"\\t\")\n",
        "df.show(10)"
      ]
    },
    {
      "cell_type": "code",
      "execution_count": 26,
      "metadata": {
        "colab": {
          "base_uri": "https://localhost:8080/"
        },
        "id": "Ng2yWob3cgO4",
        "outputId": "322ebd08-22fe-4161-d106-f0ecb7a9262d"
      },
      "outputs": [
        {
          "name": "stdout",
          "output_type": "stream",
          "text": [
            "root\n",
            " |-- marketplace: string (nullable = true)\n",
            " |-- customer_id: integer (nullable = true)\n",
            " |-- review_id: string (nullable = true)\n",
            " |-- product_id: string (nullable = true)\n",
            " |-- product_parent: integer (nullable = true)\n",
            " |-- product_title: string (nullable = true)\n",
            " |-- product_category: string (nullable = true)\n",
            " |-- star_rating: integer (nullable = true)\n",
            " |-- helpful_votes: integer (nullable = true)\n",
            " |-- total_votes: integer (nullable = true)\n",
            " |-- vine: string (nullable = true)\n",
            " |-- verified_purchase: string (nullable = true)\n",
            " |-- review_headline: string (nullable = true)\n",
            " |-- review_body: string (nullable = true)\n",
            " |-- review_date: string (nullable = true)\n",
            "\n"
          ]
        }
      ],
      "source": [
        "# Check data types\n",
        "df.printSchema()"
      ]
    },
    {
      "cell_type": "code",
      "execution_count": 27,
      "metadata": {
        "colab": {
          "base_uri": "https://localhost:8080/"
        },
        "id": "XxeP7PTZchCG",
        "outputId": "ca5d10fc-b059-4969-8c3f-b5e438220b74"
      },
      "outputs": [
        {
          "name": "stdout",
          "output_type": "stream",
          "text": [
            "+-----------+-----------+--------------+----------+--------------+--------------------+----------------+-----------+-------------+-----------+----+-----------------+--------------------+--------------------+-----------+\n",
            "|marketplace|customer_id|     review_id|product_id|product_parent|       product_title|product_category|star_rating|helpful_votes|total_votes|vine|verified_purchase|     review_headline|         review_body|review_date|\n",
            "+-----------+-----------+--------------+----------+--------------+--------------------+----------------+-----------+-------------+-----------+----+-----------------+--------------------+--------------------+-----------+\n",
            "|         US|   40884699| R9CO86UUJCAW5|B00VGTN02Y|     786681372|Teenage Mutant Ni...|         Luggage|          3|            0|          0|   N|                Y|my review of this...|my review of this...| 2015-08-31|\n",
            "|         US|   23208852|R3PR8X6QGVJ8B1|B005KIWL0E|     618251799|Kenneth Cole Reac...|         Luggage|          5|            0|          0|   N|                Y|          Five Stars|       Perfect size.| 2015-08-31|\n",
            "|         US|   17100246|R39BO2819ABUPF|B007UNSHJ6|     810480328|American Touriste...|         Luggage|          4|            0|          0|   N|                Y|            so good.|    So far, so good.| 2015-08-31|\n",
            "|         US|   13533670|R3ADL7V6EGGEEP|B00WHFNXB4|      20765193|15.5 Inch Purple ...|         Luggage|          4|            0|          0|   N|                Y|          Four Stars|seems nicely made...| 2015-08-31|\n",
            "|         US|   38541771|R1OXYPBPLVRMI5|B000M5NBYU|     812890709|Port & Company Zi...|         Luggage|          5|            0|          0|   N|                Y|           Dance Bag|Great bag for all...| 2015-08-31|\n",
            "|         US|   12686499|R1WYM8Z5ATQ98O|B00ACBJ89G|     624906499|J World New York ...|         Luggage|          3|            0|          0|   N|                Y|        TOO SMALL!!!|it´s nice BUT it´...| 2015-08-31|\n",
            "|         US|   27767206|R3LCIANTN1H9EC|B001H4BQ1A|     385044506|Voltage Valet Clo...|         Luggage|          4|            1|          1|   N|                Y|          Four Stars|It does the job b...| 2015-08-31|\n",
            "|         US|   46630606|R3U2M23N1P0KQ6|B00ESG6NDK|      51297652|Pro Packing Cubes...|         Luggage|          5|            0|          0|   N|                Y|          Five Stars|          Just fine.| 2015-08-31|\n",
            "|         US|   41622754|R29MB6N7HB6NZI|B00M14SAXC|     832113872|Girl's Dance Duff...|         Luggage|          1|            2|          2|   N|                Y|We were exited to...|We were exited to...| 2015-08-31|\n",
            "|         US|   15296380| RGEQ6DGRG7DQG|B012PC5QAY|     490793867|Disney Inside Out...|         Luggage|          5|            0|          0|   N|                Y|               cute!|Very nice and we'...| 2015-08-31|\n",
            "+-----------+-----------+--------------+----------+--------------+--------------------+----------------+-----------+-------------+-----------+----+-----------------+--------------------+--------------------+-----------+\n",
            "only showing top 10 rows\n",
            "\n"
          ]
        }
      ],
      "source": [
        "# Change review_date to an actual date\n",
        "from pyspark.sql.types import DateType\n",
        "\n",
        "df = df.withColumn(\"review_date\", df.review_date.cast(DateType()))\n",
        "df.show(10)"
      ]
    },
    {
      "cell_type": "code",
      "execution_count": 31,
      "metadata": {
        "colab": {
          "base_uri": "https://localhost:8080/"
        },
        "id": "ymHBucpvctqU",
        "outputId": "af118b47-5a7a-4cf2-e7c9-24ed8401bf69"
      },
      "outputs": [
        {
          "name": "stdout",
          "output_type": "stream",
          "text": [
            "348613\n",
            "348613\n"
          ]
        }
      ],
      "source": [
        "# Drop duplicates and incomplete rows\n",
        "print(df.count())\n",
        "df = df.dropna()\n",
        "df = df.dropDuplicates()\n",
        "print(df.count())"
      ]
    },
    {
      "cell_type": "code",
      "execution_count": 32,
      "metadata": {
        "colab": {
          "base_uri": "https://localhost:8080/"
        },
        "id": "oa2m3wEnczNt",
        "outputId": "706c7dc3-1efa-40fb-de82-4d36b9252182"
      },
      "outputs": [
        {
          "name": "stdout",
          "output_type": "stream",
          "text": [
            "root\n",
            " |-- marketplace: string (nullable = true)\n",
            " |-- customer_id: integer (nullable = true)\n",
            " |-- review_id: string (nullable = true)\n",
            " |-- product_id: string (nullable = true)\n",
            " |-- product_parent: integer (nullable = true)\n",
            " |-- product_title: string (nullable = true)\n",
            " |-- product_category: string (nullable = true)\n",
            " |-- star_rating: integer (nullable = true)\n",
            " |-- helpful_votes: integer (nullable = true)\n",
            " |-- total_votes: integer (nullable = true)\n",
            " |-- vine: string (nullable = true)\n",
            " |-- verified_purchase: string (nullable = true)\n",
            " |-- review_headline: string (nullable = true)\n",
            " |-- review_body: string (nullable = true)\n",
            " |-- review_date: date (nullable = true)\n",
            "\n"
          ]
        }
      ],
      "source": [
        "# Check data types after changes\n",
        "df.printSchema()"
      ]
    },
    {
      "cell_type": "code",
      "execution_count": 33,
      "metadata": {
        "colab": {
          "base_uri": "https://localhost:8080/"
        },
        "id": "JYOVJLkfc3zO",
        "outputId": "791abae5-227d-44fb-8844-32173b49bcbe"
      },
      "outputs": [
        {
          "name": "stdout",
          "output_type": "stream",
          "text": [
            "+--------------+-----------+----------+--------------+-----------+\n",
            "|     review_id|customer_id|product_id|product_parent|review_date|\n",
            "+--------------+-----------+----------+--------------+-----------+\n",
            "|R11IBSD5E6HPSD|   20761040|B002B3FWXY|     677901073| 2015-08-31|\n",
            "|R16F6MZAVR1IYL|   29442013|B000YB7T04|     553070376| 2015-08-31|\n",
            "|R30889FXLP48F3|   29849475|B00F9KE912|     918753137| 2015-08-30|\n",
            "|R1DW06GLTNCVWQ|    1988134|B001CDG7Q0|     460451174| 2015-08-29|\n",
            "| RDC197RTSTZJY|    1302634|B0019GAOO6|      53787504| 2015-08-29|\n",
            "+--------------+-----------+----------+--------------+-----------+\n",
            "only showing top 5 rows\n",
            "\n"
          ]
        }
      ],
      "source": [
        "# Create review_id_table\n",
        "reviews_df = df.select([\"review_id\", \"customer_id\", \"product_id\", \"product_parent\", \"review_date\"])\n",
        "reviews_df.show(5)"
      ]
    },
    {
      "cell_type": "code",
      "execution_count": 34,
      "metadata": {
        "colab": {
          "base_uri": "https://localhost:8080/"
        },
        "id": "F_fEwxfkdAf5",
        "outputId": "5c102dad-6420-4e5e-9388-b07343409c4c"
      },
      "outputs": [
        {
          "name": "stdout",
          "output_type": "stream",
          "text": [
            "+----------+--------------------+\n",
            "|product_id|       product_title|\n",
            "+----------+--------------------+\n",
            "|B002B3FWXY|Travelon Anti-The...|\n",
            "|B000YB7T04|totes Signature C...|\n",
            "|B00F9KE912|Samsonite Wheeled...|\n",
            "|B001CDG7Q0|17 Inch Gray Whee...|\n",
            "|B0019GAOO6| Everest Hiking Pack|\n",
            "+----------+--------------------+\n",
            "only showing top 5 rows\n",
            "\n"
          ]
        }
      ],
      "source": [
        "# Create products table\n",
        "products_df = df.select([\"product_id\", \"product_title\"])\n",
        "products_df.show(5)"
      ]
    },
    {
      "cell_type": "code",
      "execution_count": 35,
      "metadata": {
        "colab": {
          "base_uri": "https://localhost:8080/"
        },
        "id": "2Wa_hYdxdBIr",
        "outputId": "cdb8de2a-7ceb-49e3-c100-1db7bf0c0090"
      },
      "outputs": [
        {
          "name": "stdout",
          "output_type": "stream",
          "text": [
            "Total number before: 348613\n"
          ]
        }
      ],
      "source": [
        "# Count the total number of rows in products_df\n",
        "counted = products_df.count()\n",
        "print(f\"Total number before: {counted}\")"
      ]
    },
    {
      "cell_type": "code",
      "execution_count": 40,
      "metadata": {
        "colab": {
          "base_uri": "https://localhost:8080/"
        },
        "id": "DeYPngWsdEF9",
        "outputId": "1f56bc1a-515c-4621-c160-0a7f1403873b"
      },
      "outputs": [
        {
          "name": "stdout",
          "output_type": "stream",
          "text": [
            "Total number after: 64584\n"
          ]
        }
      ],
      "source": [
        "# Only keep distinct products\n",
        "products_df = products_df.distinct()\n",
        "\n",
        "# Check the count now\n",
        "recounted = products_df.count()\n",
        "print(f\"Total number after: {recounted}\")"
      ]
    },
    {
      "cell_type": "code",
      "execution_count": 41,
      "metadata": {
        "colab": {
          "base_uri": "https://localhost:8080/"
        },
        "id": "2owBl_cYdLG-",
        "outputId": "fe1a83a3-ce5d-42e3-e602-55f051dbb42e"
      },
      "outputs": [
        {
          "name": "stdout",
          "output_type": "stream",
          "text": [
            "+-----------+--------------+\n",
            "|customer_id|customer_count|\n",
            "+-----------+--------------+\n",
            "|   12640280|            63|\n",
            "|   27493011|            31|\n",
            "|   16600581|            31|\n",
            "|   43856165|            29|\n",
            "|   39789300|            26|\n",
            "|   35461976|            25|\n",
            "|   35938574|            24|\n",
            "|   52228204|            23|\n",
            "|   52955780|            23|\n",
            "|    5329443|            23|\n",
            "+-----------+--------------+\n",
            "only showing top 10 rows\n",
            "\n"
          ]
        }
      ],
      "source": [
        "\n",
        "# Create customers table\n",
        "# Per the schema, create a count of customers\n",
        "customers_df = df.groupBy(\"customer_id\").count()\n",
        "\n",
        "# Rename count column\n",
        "customers_df = customers_df.withColumnRenamed(\"count\", \"customer_count\")\n",
        "\n",
        "# Order by customer count\n",
        "customers_df.orderBy(customers_df[\"customer_count\"].desc()).show(10)"
      ]
    },
    {
      "cell_type": "code",
      "execution_count": 42,
      "metadata": {
        "colab": {
          "base_uri": "https://localhost:8080/"
        },
        "id": "E0sHmQ16dWLR",
        "outputId": "f2de7650-56df-4a3b-d003-9d73129690ff"
      },
      "outputs": [
        {
          "name": "stdout",
          "output_type": "stream",
          "text": [
            "root\n",
            " |-- customer_id: integer (nullable = true)\n",
            " |-- customer_count: long (nullable = false)\n",
            "\n"
          ]
        }
      ],
      "source": [
        "# Check data types for customers_df\n",
        "customers_df.printSchema()"
      ]
    },
    {
      "cell_type": "code",
      "execution_count": 43,
      "metadata": {
        "colab": {
          "base_uri": "https://localhost:8080/"
        },
        "id": "sDZ77597dY89",
        "outputId": "84c74493-2af4-43ac-b88e-b6f51b22ff65"
      },
      "outputs": [
        {
          "name": "stdout",
          "output_type": "stream",
          "text": [
            "root\n",
            " |-- customer_id: integer (nullable = true)\n",
            " |-- customer_count: integer (nullable = false)\n",
            "\n"
          ]
        }
      ],
      "source": [
        "from pyspark.sql.types import IntegerType\n",
        "\n",
        "# Per the schema, convert customer_count to integer\n",
        "customers_df = customers_df.withColumn(\"customer_count\", customers_df[\"customer_count\"].cast(IntegerType()))\n",
        "\n",
        "# Check data types after changes\n",
        "customers_df.printSchema()"
      ]
    },
    {
      "cell_type": "code",
      "execution_count": 44,
      "metadata": {
        "colab": {
          "base_uri": "https://localhost:8080/"
        },
        "id": "saenjBXjdfyc",
        "outputId": "2964aa40-8690-48e5-a2c3-ed32e956008a"
      },
      "outputs": [
        {
          "name": "stdout",
          "output_type": "stream",
          "text": [
            "+--------------+-----------+-------------+-----------+----+\n",
            "|     review_id|star_rating|helpful_votes|total_votes|vine|\n",
            "+--------------+-----------+-------------+-----------+----+\n",
            "|R11IBSD5E6HPSD|          1|           29|         31|   N|\n",
            "|R16F6MZAVR1IYL|          4|            0|          0|   N|\n",
            "|R30889FXLP48F3|          5|            1|          1|   N|\n",
            "|R1DW06GLTNCVWQ|          5|            0|          0|   N|\n",
            "| RDC197RTSTZJY|          4|            0|          0|   N|\n",
            "|R3D44CQ92OA3BR|          5|            0|          0|   N|\n",
            "|R115NO9WEEUBWD|          4|            1|          1|   N|\n",
            "|R16QUOK50Y94JU|          5|            0|          0|   N|\n",
            "| R1P81BC6VL7PZ|          4|            0|          0|   N|\n",
            "| RZZLHN9MWIAEJ|          5|            0|          0|   N|\n",
            "+--------------+-----------+-------------+-----------+----+\n",
            "only showing top 10 rows\n",
            "\n"
          ]
        }
      ],
      "source": [
        "# Create vine_table\n",
        "vine_table_df = df.select([\"review_id\", \"star_rating\", \"helpful_votes\", \"total_votes\", \"vine\"])\n",
        "vine_table_df.show(10)"
      ]
    },
    {
      "cell_type": "code",
      "execution_count": 45,
      "metadata": {
        "id": "wStpR1dbhRCq"
      },
      "outputs": [],
      "source": [
        "# Configure settings for RDS\n",
        "mode = \"append\"\n",
        "jdbc_url=\"jdbc:postgresql://<connection>:5432/<db>\"\n",
        "config = {\"user\":\"username\", \n",
        "          \"password\": \"password\", \n",
        "          \"driver\":\"org.postgresql.Driver\"}"
      ]
    },
    {
      "cell_type": "code",
      "execution_count": 46,
      "metadata": {
        "id": "MH3FySsrhWOf"
      },
      "outputs": [],
      "source": [
        "# Write dataframe to review_id_table table in RDS\n",
        "reviews_df.write.jdbc(url=jdbc_url, table=\"review_id_table\", mode=mode, properties=config)"
      ]
    },
    {
      "cell_type": "code",
      "execution_count": 47,
      "metadata": {
        "id": "lf-MptslHL2P"
      },
      "outputs": [],
      "source": [
        "# Write dataframe to products table in RDS\n",
        "products_df.write.jdbc(url=jdbc_url, table=\"products\", mode=mode, properties=config)"
      ]
    },
    {
      "cell_type": "code",
      "execution_count": 48,
      "metadata": {
        "id": "4qiXjbrRJNRW"
      },
      "outputs": [],
      "source": [
        "# Write dataframe to customers table in RDS\n",
        "customers_df.write.jdbc(url=jdbc_url, table=\"customers\", mode=mode, properties=config)"
      ]
    },
    {
      "cell_type": "code",
      "execution_count": 49,
      "metadata": {
        "id": "AMJUw1A9JOvd"
      },
      "outputs": [],
      "source": [
        "vine_table_df.write.jdbc(url=jdbc_url, table=\"vine_table\", mode=mode, properties=config)"
      ]
    },
    {
      "cell_type": "code",
      "execution_count": null,
      "metadata": {
        "id": "WScU10ohJQKF"
      },
      "outputs": [],
      "source": []
    }
  ],
  "metadata": {
    "colab": {
      "name": "Copy of level-1-furniture.ipynb",
      "provenance": []
    },
    "kernelspec": {
      "display_name": "Python 3",
      "name": "python3"
    },
    "language_info": {
      "name": "python"
    }
  },
  "nbformat": 4,
  "nbformat_minor": 0
}
